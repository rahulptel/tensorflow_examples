{
 "cells": [
  {
   "cell_type": "code",
   "execution_count": 1,
   "metadata": {},
   "outputs": [],
   "source": [
    "# Necessary imports\n",
    "import gc\n",
    "\n",
    "import numpy as np\n",
    "import tensorflow as tf\n",
    "\n",
    "from sklearn import datasets\n",
    "from sklearn.model_selection import train_test_split\n",
    "from sklearn.preprocessing import StandardScaler\n",
    "from sklearn.utils import shuffle\n",
    "import matplotlib.pyplot as plt\n",
    "%matplotlib notebook"
   ]
  },
  {
   "cell_type": "code",
   "execution_count": 5,
   "metadata": {},
   "outputs": [
    {
     "name": "stdout",
     "output_type": "stream",
     "text": [
      "Shape of X train:(800, 2), y_train:(800, 1), X_test:(200, 2) and y_test:(200, 1)\n",
      "Positive training samples : (404, 2)\n",
      "Negative training samples : (396, 2)\n"
     ]
    },
    {
     "data": {
      "image/png": "[encoded data removed]",
      "text/plain": [
       "<Figure size 432x288 with 1 Axes>"
      ]
     },
     "metadata": {
      "needs_background": "light"
     },
     "output_type": "display_data"
    }
   ],
   "source": [
    "# Generate dataset\n",
    "X, y = datasets.make_classification(n_samples=1000, n_features=2,\n",
    "                                    n_informative=2, n_redundant=0)\n",
    "\n",
    "train_samples = int(X.shape[0]*0.8)\n",
    "X_train = X[:train_samples] \n",
    "y_train = y[:train_samples].reshape([-1, 1])\n",
    "X_test = X[train_samples:] \n",
    "y_test = y[train_samples:].reshape([-1, 1])\n",
    "\n",
    "print(\"Shape of X train:{}, y_train:{}, X_test:{} and y_test:{}\".format(X_train.shape, \n",
    "                                                                        y_train.shape, \n",
    "                                                                        X_test.shape, \n",
    "                                                                        y_test.shape))\n",
    "\n",
    "# Visualise data\n",
    "X_train_pos = np.asarray([i for idx, i in enumerate(X_train) if y_train[idx]==[1]]).reshape([-1, 2])\n",
    "X_train_neg = np.asarray([i for idx, i in enumerate(X_train) if y_train[idx]==[0]]).reshape([-1, 2])\n",
    "print(\"Positive training samples : {}\".format(X_train_pos.shape))\n",
    "print(\"Negative training samples : {}\".format(X_train_neg.shape))\n",
    "\n",
    "plt.scatter(x=X_train_pos[:,0], y=X_train_pos[:,1], c='g', marker='^', label=\"Positive\")\n",
    "plt.scatter(x=X_train_neg[:,0], y=X_train_neg[:,1], c='r', marker='o', label=\"Negative\")\n",
    "plt.xlabel('x1')\n",
    "plt.ylabel('x2')\n",
    "plt.title('Scatter plot of data points')\n",
    "plt.legend()\n",
    "plt.show()"
   ]
  },
  {
   "cell_type": "code",
   "execution_count": 6,
   "metadata": {},
   "outputs": [],
   "source": [
    "# Define placeholders\n",
    "X = tf.placeholder(tf.float32, shape=[None, 2], name=\"X_train\")\n",
    "y = tf.placeholder(tf.float32, shape=[None, 1], name=\"y_train\")\n",
    "\n",
    "# Define variables\n",
    "W = tf.get_variable(name='W', shape=[2, 1], initializer=tf.random_normal_initializer())\n",
    "b = tf.get_variable(name='b', shape=[1], initializer=tf.random_normal_initializer())"
   ]
  },
  {
   "cell_type": "code",
   "execution_count": 7,
   "metadata": {},
   "outputs": [],
   "source": [
    "learning_rate = 0.01\n",
    "# Make prediction\n",
    "logits = tf.matmul(X, W) + b\n",
    "prediction = tf.nn.sigmoid(logits)\n",
    "# Calculate error\n",
    "error = tf.reduce_mean(tf.nn.sigmoid_cross_entropy_with_logits(logits=logits, labels=y))\n",
    "# Optimize error\n",
    "optimizer = tf.train.GradientDescentOptimizer(learning_rate).minimize(error)"
   ]
  },
  {
   "cell_type": "code",
   "execution_count": 8,
   "metadata": {},
   "outputs": [
    {
     "name": "stdout",
     "output_type": "stream",
     "text": [
      "Epoch: 20, Error: 0.44928300380706787, W: [[ 0.78213495]\n",
      " [-0.26875982]], b: [-0.2163019]\n",
      "Epoch: 40, Error: 0.43419915437698364, W: [[ 0.8279703 ]\n",
      " [-0.24102806]], b: [-0.20468254]\n",
      "Epoch: 60, Error: 0.42052239179611206, W: [[ 0.87175596]\n",
      " [-0.21495472]], b: [-0.1933734]\n",
      "Epoch: 80, Error: 0.40808960795402527, W: [[ 0.9136475 ]\n",
      " [-0.19043514]], b: [-0.18236274]\n",
      "Epoch: 100, Error: 0.39675766229629517, W: [[ 0.95378643]\n",
      " [-0.16736838]], b: [-0.17163792]\n",
      "Epoch: 120, Error: 0.3864014744758606, W: [[ 0.99230176]\n",
      " [-0.14565833]], b: [-0.16118577]\n",
      "Epoch: 140, Error: 0.3769117593765259, W: [[ 1.0293107 ]\n",
      " [-0.12521394]], b: [-0.15099302]\n",
      "Epoch: 160, Error: 0.368193119764328, W: [[ 1.0649194 ]\n",
      " [-0.10594963]], b: [-0.14104651]\n",
      "Epoch: 180, Error: 0.36016160249710083, W: [[ 1.0992254 ]\n",
      " [-0.08778516]], b: [-0.13133341]\n",
      "Epoch: 200, Error: 0.35274460911750793, W: [[ 1.1323162 ]\n",
      " [-0.07064567]], b: [-0.12184137]\n",
      "Epoch: 220, Error: 0.3458780348300934, W: [[ 1.1642716 ]\n",
      " [-0.05446146]], b: [-0.11255852]\n",
      "Epoch: 240, Error: 0.3395055830478668, W: [[ 1.1951648 ]\n",
      " [-0.03916781]], b: [-0.10347355]\n",
      "Epoch: 260, Error: 0.3335781395435333, W: [[ 1.2250619 ]\n",
      " [-0.02470468]], b: [-0.09457582]\n",
      "Epoch: 280, Error: 0.32805222272872925, W: [[ 1.2540239 ]\n",
      " [-0.01101645]], b: [-0.08585523]\n",
      "Epoch: 300, Error: 0.3228893578052521, W: [[1.2821068 ]\n",
      " [0.00194839]], b: [-0.07730231]\n",
      "Epoch: 320, Error: 0.31805577874183655, W: [[1.309361  ]\n",
      " [0.01423749]], b: [-0.06890816]\n",
      "Epoch: 340, Error: 0.31352150440216064, W: [[1.3358335 ]\n",
      " [0.02589496]], b: [-0.06066449]\n",
      "Epoch: 360, Error: 0.3092598021030426, W: [[1.361567  ]\n",
      " [0.03696159]], b: [-0.05256348]\n",
      "Epoch: 380, Error: 0.305247038602829, W: [[1.3866017 ]\n",
      " [0.04747516]], b: [-0.04459786]\n",
      "Epoch: 400, Error: 0.30146199464797974, W: [[1.4109734 ]\n",
      " [0.05747063]], b: [-0.03676082]\n",
      "Epoch: 420, Error: 0.297885924577713, W: [[1.434716  ]\n",
      " [0.06698035]], b: [-0.029046]\n",
      "Epoch: 440, Error: 0.2945016920566559, W: [[1.4578615 ]\n",
      " [0.07603436]], b: [-0.02144747]\n",
      "Epoch: 460, Error: 0.2912942171096802, W: [[1.4804384 ]\n",
      " [0.08466044]], b: [-0.01395967]\n",
      "Epoch: 480, Error: 0.28824979066848755, W: [[1.5024734 ]\n",
      " [0.09288442]], b: [-0.00657744]\n",
      "Epoch: 500, Error: 0.28535598516464233, W: [[1.5239922 ]\n",
      " [0.10073024]], b: [0.00070406]\n"
     ]
    }
   ],
   "source": [
    "# Initialize the variables (i.e. assign their default value)\n",
    "init = tf.global_variables_initializer()\n",
    "\n",
    "total_error = []\n",
    "with tf.Session() as sess:\n",
    "    sess.run(init)\n",
    "    # Train for 1000 epochs\n",
    "    for epoch in range(1, 501):\n",
    "        _, _error, _W, _b = sess.run([optimizer, error, W, b], feed_dict={X: X_train, y: y_train})\n",
    "        if epoch % 20 == 0:\n",
    "            print(\"Epoch: {}, Error: {}, W: {}, b: {}\".format(epoch, _error, _W, _b))\n",
    "        total_error.append(_error)             \n",
    "        \n",
    "    # Calculate the correct predictions\n",
    "    corr_pred = tf.reshape(tf.to_float(tf.greater(prediction, 0.5)), shape=[-1, 1])\n",
    "\n",
    "    # Calculate accuracy on the test set\n",
    "    accuracy = tf.reduce_mean(tf.to_float(tf.equal(y, corr_pred)))\n",
    "    \n",
    "    train_acc = sess.run(accuracy, feed_dict={X:X_train, y:y_train})\n",
    "    test_acc = sess.run(accuracy, feed_dict={X:X_test, y:y_test})\n"
   ]
  },
  {
   "cell_type": "code",
   "execution_count": 9,
   "metadata": {},
   "outputs": [
    {
     "data": {
      "image/png": "[encoded data removed]",
      "text/plain": [
       "<Figure size 432x288 with 1 Axes>"
      ]
     },
     "metadata": {
      "needs_background": "light"
     },
     "output_type": "display_data"
    }
   ],
   "source": [
    "# Subplots or error and leanred regression line\n",
    "fig = plt.figure()\n",
    "ax1 = fig.add_subplot(111)\n",
    "# Plot 1\n",
    "ax1.plot(total_error)\n",
    "ax1.set_xlabel('Epoch')\n",
    "ax1.set_ylabel('Error')\n",
    "ax1.set_title('Error v/s Epoch')\n",
    "plt.show()"
   ]
  },
  {
   "cell_type": "code",
   "execution_count": 10,
   "metadata": {},
   "outputs": [
    {
     "name": "stdout",
     "output_type": "stream",
     "text": [
      "Train accuracy: 0.9200000166893005, Test accuracy: 0.925000011920929\n"
     ]
    }
   ],
   "source": [
    "print(\"Train accuracy: {}, Test accuracy: {}\".format(train_acc, test_acc))"
   ]
  },
  {
   "cell_type": "markdown",
   "metadata": {},
   "source": [
    "# References\n",
    "\n",
    "- [Logistic Regression with TensorFlow](https://serrate.net/2018/02/18/logistic-regression-with-tensorflow/)"
   ]
  }
 ],
 "metadata": {
  "kernelspec": {
   "display_name": "Python 3",
   "language": "python",
   "name": "python3"
  },
  "language_info": {
   "codemirror_mode": {
    "name": "ipython",
    "version": 3
   },
   "file_extension": ".py",
   "mimetype": "text/x-python",
   "name": "python",
   "nbconvert_exporter": "python",
   "pygments_lexer": "ipython3",
   "version": "3.6.6"
  }
 },
 "nbformat": 4,
 "nbformat_minor": 2
}
